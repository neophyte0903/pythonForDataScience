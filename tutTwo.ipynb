{
 "cells": [
  {
   "cell_type": "code",
   "execution_count": 1,
   "metadata": {},
   "outputs": [],
   "source": [
    "import numpy as np"
   ]
  },
  {
   "cell_type": "markdown",
   "metadata": {},
   "source": [
    "### Basic arrays\n",
    "<p>we will create an empty array , a zero array,an ones array</p>"
   ]
  },
  {
   "cell_type": "code",
   "execution_count": 4,
   "metadata": {},
   "outputs": [
    {
     "data": {
      "text/plain": [
       "array([0., 0., 0.])"
      ]
     },
     "execution_count": 4,
     "metadata": {},
     "output_type": "execute_result"
    }
   ],
   "source": [
    "z=np.zeros(3)"
   ]
  },
  {
   "cell_type": "code",
   "execution_count": 7,
   "metadata": {},
   "outputs": [
    {
     "data": {
      "text/plain": [
       "array([1., 1., 1., 1., 1.])"
      ]
     },
     "execution_count": 7,
     "metadata": {},
     "output_type": "execute_result"
    }
   ],
   "source": [
    "O=np.ones(5)"
   ]
  },
  {
   "cell_type": "markdown",
   "metadata": {},
   "source": [
    "<h5>creating an array as for a given range</h5>"
   ]
  },
  {
   "cell_type": "code",
   "execution_count": 9,
   "metadata": {},
   "outputs": [
    {
     "name": "stdout",
     "output_type": "stream",
     "text": [
      "[0 1 2 3 4]\n"
     ]
    }
   ],
   "source": [
    "a=np.arange(5)\n",
    "print(a)"
   ]
  },
  {
   "cell_type": "code",
   "execution_count": 12,
   "metadata": {},
   "outputs": [
    {
     "data": {
      "text/plain": [
       "array([ 2,  4,  6,  8, 10])"
      ]
     },
     "execution_count": 12,
     "metadata": {},
     "output_type": "execute_result"
    }
   ],
   "source": [
    "b=np.arange(2,11,2)\n",
    "b"
   ]
  },
  {
   "cell_type": "markdown",
   "metadata": {},
   "source": [
    "You can also use np.linspace() to create an array with values that are spaced linearly in a specified interval:\n",
    "it means Socho tumhaare paas ek lambi dor hai, aur tumhe us dor par kuch chhote-chhote nishaan (marks) lagane hain. Agar tum chahte ho ki dor ke shuru se lekar end tak 5 nishaan lagao, toh tum is baat ka dhyan rakhoge ki har nishaan ke beech ki doori ek jaisi ho.\n",
    "\n",
    "NumPy mein, np.linspace() ek helper ki tarah hai jo yeh nishaan lagane mein madad karta hai, lekin dor par nahi, balki number line par.\n",
    "\n",
    "Isse samajhte hain:\n",
    "\n",
    "Start aur End Points: Tum ise batate ho ki kahan se shuru karna hai aur kahan khatam.\n",
    "Number of Marks: Tum ise batate ho kitne nishaan (marks) chahiye.\n",
    "Maan lo tumhe ek aisa array (numbers ki list) banana hai jo 0 se shuru ho aur 10 par khatam, aur tumhe is list mein 5 numbers chahiye. Tum np.linspace() aise use karoge:"
   ]
  },
  {
   "cell_type": "code",
   "execution_count": 13,
   "metadata": {},
   "outputs": [
    {
     "name": "stdout",
     "output_type": "stream",
     "text": [
      "[ 1.   3.8  6.6  9.4 12.2 15. ]\n",
      "[ 1.    8.25 15.5  22.75 30.  ]\n"
     ]
    }
   ],
   "source": [
    "c=np.linspace(1,15,6)\n",
    "d=np.linspace(1,30,5)\n",
    "\n",
    "print(c)\n",
    "print(d)"
   ]
  }
 ],
 "metadata": {
  "kernelspec": {
   "display_name": "Python 3",
   "language": "python",
   "name": "python3"
  },
  "language_info": {
   "codemirror_mode": {
    "name": "ipython",
    "version": 3
   },
   "file_extension": ".py",
   "mimetype": "text/x-python",
   "name": "python",
   "nbconvert_exporter": "python",
   "pygments_lexer": "ipython3",
   "version": "3.9.6"
  }
 },
 "nbformat": 4,
 "nbformat_minor": 2
}
