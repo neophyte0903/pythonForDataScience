{
 "cells": [
  {
   "cell_type": "markdown",
   "id": "3b2b0bfe-9069-48b9-b84c-ba50d7ab2214",
   "metadata": {
    "jp-MarkdownHeadingCollapsed": true
   },
   "source": [
    "# basic python brushup "
   ]
  },
  {
   "cell_type": "code",
   "execution_count": 1,
   "id": "0f50256b-16db-4b6d-9bcd-a12ebf63e52d",
   "metadata": {},
   "outputs": [
    {
     "data": {
      "text/plain": [
       "2"
      ]
     },
     "execution_count": 1,
     "metadata": {},
     "output_type": "execute_result"
    }
   ],
   "source": [
    "1+1"
   ]
  },
  {
   "cell_type": "code",
   "execution_count": 2,
   "id": "089d6858-0285-4093-a55e-0ce5c460f1c1",
   "metadata": {},
   "outputs": [
    {
     "data": {
      "text/plain": [
       "20"
      ]
     },
     "execution_count": 2,
     "metadata": {},
     "output_type": "execute_result"
    }
   ],
   "source": [
    "4*5"
   ]
  },
  {
   "cell_type": "markdown",
   "id": "878bf98a-2871-434a-a6fd-49c799f72730",
   "metadata": {},
   "source": [
    "# printing labels\n"
   ]
  },
  {
   "cell_type": "code",
   "execution_count": 3,
   "id": "93ac87aa-084d-4560-82c6-17e994507d25",
   "metadata": {},
   "outputs": [
    {
     "name": "stdout",
     "output_type": "stream",
     "text": [
      "hello world\n"
     ]
    }
   ],
   "source": [
    "print(\"hello world\")"
   ]
  },
  {
   "cell_type": "code",
   "execution_count": 4,
   "id": "a30d734d-462b-417d-9318-0fe5196b0fc1",
   "metadata": {},
   "outputs": [],
   "source": [
    "first_name=\"Gagandeep\"\n",
    "last_name=\"Singh\""
   ]
  },
  {
   "cell_type": "code",
   "execution_count": 6,
   "id": "c266c11a-5a71-40f9-9a5c-15dd1addd628",
   "metadata": {},
   "outputs": [
    {
     "name": "stdout",
     "output_type": "stream",
     "text": [
      "my first name is Gagandeep my last name is Singh\n"
     ]
    }
   ],
   "source": [
    "print('my first name is {} my last name is {}'.format(first_name,last_name))"
   ]
  },
  {
   "cell_type": "code",
   "execution_count": 8,
   "id": "883624da-1473-4fa2-841d-e6aec962e4ec",
   "metadata": {},
   "outputs": [
    {
     "name": "stdout",
     "output_type": "stream",
     "text": [
      "my first name is Gagandeep my last name is Singh\n"
     ]
    }
   ],
   "source": [
    "print('my first name is {first} my last name is {last}'.format(first=first_name,last=last_name))\n",
    "#by using such notation it allows us to control the variables and placeholder doesn't matter"
   ]
  },
  {
   "cell_type": "code",
   "execution_count": 9,
   "id": "156c1537-138e-425e-bfbd-7f20d4d570ea",
   "metadata": {},
   "outputs": [
    {
     "name": "stdout",
     "output_type": "stream",
     "text": [
      "my first name is Gagandeep my last name is Singh\n"
     ]
    }
   ],
   "source": [
    "print(f'my first name is {first_name} my last name is {last_name}')"
   ]
  },
  {
   "cell_type": "code",
   "execution_count": 10,
   "id": "44f8f0ac-c653-433d-9bde-c3f86a5f949a",
   "metadata": {},
   "outputs": [
    {
     "data": {
      "text/plain": [
       "9"
      ]
     },
     "execution_count": 10,
     "metadata": {},
     "output_type": "execute_result"
    }
   ],
   "source": [
    "len('gagandeep')"
   ]
  },
  {
   "cell_type": "code",
   "execution_count": 11,
   "id": "006a5145-7999-46c6-8d59-fdb12c576e38",
   "metadata": {},
   "outputs": [
    {
     "data": {
      "text/plain": [
       "int"
      ]
     },
     "execution_count": 11,
     "metadata": {},
     "output_type": "execute_result"
    }
   ],
   "source": [
    "type(9)"
   ]
  },
  {
   "cell_type": "code",
   "execution_count": null,
   "id": "96f73557-5f6b-4745-9c34-fd23406b6ba9",
   "metadata": {},
   "outputs": [],
   "source": []
  }
 ],
 "metadata": {
  "kernelspec": {
   "display_name": "Python 3 (ipykernel)",
   "language": "python",
   "name": "python3"
  },
  "language_info": {
   "codemirror_mode": {
    "name": "ipython",
    "version": 3
   },
   "file_extension": ".py",
   "mimetype": "text/x-python",
   "name": "python",
   "nbconvert_exporter": "python",
   "pygments_lexer": "ipython3",
   "version": "3.11.2"
  }
 },
 "nbformat": 4,
 "nbformat_minor": 5
}
