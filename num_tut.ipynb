{
 "cells": [
  {
   "cell_type": "markdown",
   "metadata": {},
   "source": [
    " 1. You have a football field that is 92 meter long and 48.8 meter wide. Find out total\n",
    "    area using python and print it"
   ]
  },
  {
   "cell_type": "code",
   "execution_count": 2,
   "metadata": {},
   "outputs": [
    {
     "data": {
      "text/plain": [
       "4489.599999999999"
      ]
     },
     "execution_count": 2,
     "metadata": {},
     "output_type": "execute_result"
    }
   ],
   "source": [
    "length=92\n",
    "width=48.8\n",
    "area=length*width\n",
    "area"
   ]
  },
  {
   "cell_type": "markdown",
   "metadata": {},
   "source": [
    "You bought 9 packets of potato chips from a store. Each packet costs 1.49 dollar\n",
    "    and you gave shopkeeper 20 dollar.\n",
    "   Find out using python, how many dollars is the shopkeeper going to give you back?"
   ]
  },
  {
   "cell_type": "code",
   "execution_count": 3,
   "metadata": {},
   "outputs": [
    {
     "data": {
      "text/plain": [
       "6.59"
      ]
     },
     "execution_count": 3,
     "metadata": {},
     "output_type": "execute_result"
    }
   ],
   "source": [
    "numOfPacks=9\n",
    "costPerPack=1.49\n",
    "ammountGiven=20\n",
    "totalCost=numOfPacks*costPerPack\n",
    "changeBack=ammountGiven-totalCost\n",
    "changeBack"
   ]
  },
  {
   "cell_type": "markdown",
   "metadata": {},
   "source": [
    "You want to replace tiles in your bathroom which is exactly square and 5.5 feet\n",
    "   is its length. If tiles cost 500 rs per square feet, how much will be the total\n",
    "   cost to replace all tiles. Calculate and print the cost using python\n",
    "   Hint: Use power operator (**) to find area of a square"
   ]
  },
  {
   "cell_type": "code",
   "execution_count": 4,
   "metadata": {},
   "outputs": [
    {
     "data": {
      "text/plain": [
       "15125.0"
      ]
     },
     "execution_count": 4,
     "metadata": {},
     "output_type": "execute_result"
    }
   ],
   "source": [
    "side=5.5\n",
    "cost=500\n",
    "area=5.5**2\n",
    "netCost=area*cost\n",
    "netCost"
   ]
  },
  {
   "cell_type": "markdown",
   "metadata": {},
   "source": [
    "Print binary representation of number 17"
   ]
  },
  {
   "cell_type": "code",
   "execution_count": 11,
   "metadata": {},
   "outputs": [
    {
     "data": {
      "text/plain": [
       "'10001'"
      ]
     },
     "execution_count": 11,
     "metadata": {},
     "output_type": "execute_result"
    }
   ],
   "source": [
    "number=17\n",
    "numBin=format(number,'b')\n",
    "numBin"
   ]
  }
 ],
 "metadata": {
  "kernelspec": {
   "display_name": "Python 3",
   "language": "python",
   "name": "python3"
  },
  "language_info": {
   "codemirror_mode": {
    "name": "ipython",
    "version": 3
   },
   "file_extension": ".py",
   "mimetype": "text/x-python",
   "name": "python",
   "nbconvert_exporter": "python",
   "pygments_lexer": "ipython3",
   "version": "3.11.2"
  }
 },
 "nbformat": 4,
 "nbformat_minor": 2
}
